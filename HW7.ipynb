{
 "cells": [
  {
   "cell_type": "code",
   "execution_count": 1,
   "metadata": {},
   "outputs": [],
   "source": [
    "import numpy as np\n",
    "from scipy.optimize import fsolve"
   ]
  },
  {
   "cell_type": "markdown",
   "metadata": {},
   "source": [
    "#### Задание 3"
   ]
  },
  {
   "cell_type": "code",
   "execution_count": 2,
   "metadata": {},
   "outputs": [
    {
     "name": "stdout",
     "output_type": "stream",
     "text": [
      "1.273302064528599 1.6620391224277693\n"
     ]
    }
   ],
   "source": [
    "def equations(p):\n",
    "    x, y = p\n",
    "    e1 = x**2 - y**2 + 3*x*y**3 - 2*x**2*y**2 + 2*x - 3*y - 5\n",
    "    e2 = 3*y**3 - 2*x**2 + 2*x**3*y - 5*x**2*y**2 + 5\n",
    "    return (e1, e2)\n",
    "\n",
    "x, y =  fsolve(equations, (10, 10))\n",
    "print (x, y)"
   ]
  },
  {
   "cell_type": "markdown",
   "metadata": {},
   "source": [
    "#### Задание 4"
   ]
  },
  {
   "cell_type": "code",
   "execution_count": 3,
   "metadata": {},
   "outputs": [
    {
     "name": "stdout",
     "output_type": "stream",
     "text": [
      "(-3.65307996, -0.27476341)\n",
      "(2.21775363, 0.61019397)\n",
      "(2.49435653, 0.70831752)\n",
      "(1.37568714, -0.17475798)\n",
      "(1.27330206, 1.66203912)\n"
     ]
    }
   ],
   "source": [
    "roots = set()\n",
    "\n",
    "for x in np.arange(-5, 6, 1):\n",
    "    for y in np.arange(-5, 6, 1):\n",
    "        result, info, ier, mesg = fsolve(equations, (x, y), full_output = True)\n",
    "        if (ier == 1): roots.add((int(result[0]*10**8)/10**8, int(result[1]*10**8)/10**8))\n",
    "            \n",
    "for i in roots:\n",
    "    print(i)"
   ]
  },
  {
   "cell_type": "code",
   "execution_count": null,
   "metadata": {},
   "outputs": [],
   "source": []
  }
 ],
 "metadata": {
  "kernelspec": {
   "display_name": "Python 3",
   "language": "python",
   "name": "python3"
  },
  "language_info": {
   "codemirror_mode": {
    "name": "ipython",
    "version": 3
   },
   "file_extension": ".py",
   "mimetype": "text/x-python",
   "name": "python",
   "nbconvert_exporter": "python",
   "pygments_lexer": "ipython3",
   "version": "3.7.6"
  }
 },
 "nbformat": 4,
 "nbformat_minor": 4
}
